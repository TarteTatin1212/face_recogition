{
  "nbformat": 4,
  "nbformat_minor": 0,
  "metadata": {
    "colab": {
      "provenance": [],
      "gpuType": "T4",
      "authorship_tag": "ABX9TyORGlfpec5lgxw44iUjg4PA",
      "include_colab_link": true
    },
    "kernelspec": {
      "name": "python3",
      "display_name": "Python 3"
    },
    "language_info": {
      "name": "python"
    },
    "accelerator": "GPU"
  },
  "cells": [
    {
      "cell_type": "markdown",
      "metadata": {
        "id": "view-in-github",
        "colab_type": "text"
      },
      "source": [
        "<a href=\"https://colab.research.google.com/github/TarteTatin1212/face_recogition/blob/main/face_recognition.ipynb\" target=\"_parent\"><img src=\"https://colab.research.google.com/assets/colab-badge.svg\" alt=\"Open In Colab\"/></a>"
      ]
    },
    {
      "cell_type": "code",
      "execution_count": null,
      "metadata": {
        "id": "f74GSn-R_Wfd",
        "colab": {
          "base_uri": "https://localhost:8080/"
        },
        "outputId": "1cadf718-325b-4dd9-d9c2-d3f8f13108fd"
      },
      "outputs": [
        {
          "output_type": "stream",
          "name": "stdout",
          "text": [
            "Mounted at /content/drive\n"
          ]
        }
      ],
      "source": [
        "# Googleドライブをマウントするためのライブラリをインポート\n",
        "from google.colab import drive\n",
        "# Googleドライブをマウント\n",
        "drive.mount('/content/drive')\n"
      ]
    },
    {
      "cell_type": "code",
      "source": [
        "%cd '/content/drive/MyDrive/Horita_Semi/Senior_Project/saved_data/jpg'\n"
      ],
      "metadata": {
        "id": "x5urJUpxDI7P",
        "colab": {
          "base_uri": "https://localhost:8080/"
        },
        "outputId": "b90c9db7-fa7a-4b1a-f754-b5a30055c3c6"
      },
      "execution_count": null,
      "outputs": [
        {
          "output_type": "stream",
          "name": "stdout",
          "text": [
            "/content/drive/MyDrive/Horita_Semi/Senior_Project/saved_data/jpg\n"
          ]
        }
      ]
    },
    {
      "cell_type": "code",
      "source": [
        "# face_recognitionライブラリをインストール\n",
        "!pip3 install face_recognition\n"
      ],
      "metadata": {
        "id": "udI-m9hiD8Jx",
        "colab": {
          "base_uri": "https://localhost:8080/"
        },
        "outputId": "b4a6ea44-15c5-48ae-8917-01916f9a36bf"
      },
      "execution_count": null,
      "outputs": [
        {
          "output_type": "stream",
          "name": "stdout",
          "text": [
            "Collecting face_recognition\n",
            "  Downloading face_recognition-1.3.0-py2.py3-none-any.whl (15 kB)\n",
            "Collecting face-recognition-models>=0.3.0 (from face_recognition)\n",
            "  Downloading face_recognition_models-0.3.0.tar.gz (100.1 MB)\n",
            "\u001b[2K     \u001b[90m━━━━━━━━━━━━━━━━━━━━━━━━━━━━━━━━━━━━━━━\u001b[0m \u001b[32m100.1/100.1 MB\u001b[0m \u001b[31m9.4 MB/s\u001b[0m eta \u001b[36m0:00:00\u001b[0m\n",
            "\u001b[?25h  Preparing metadata (setup.py) ... \u001b[?25l\u001b[?25hdone\n",
            "Requirement already satisfied: Click>=6.0 in /usr/local/lib/python3.10/dist-packages (from face_recognition) (8.1.7)\n",
            "Requirement already satisfied: dlib>=19.7 in /usr/local/lib/python3.10/dist-packages (from face_recognition) (19.24.2)\n",
            "Requirement already satisfied: numpy in /usr/local/lib/python3.10/dist-packages (from face_recognition) (1.23.5)\n",
            "Requirement already satisfied: Pillow in /usr/local/lib/python3.10/dist-packages (from face_recognition) (9.4.0)\n",
            "Building wheels for collected packages: face-recognition-models\n",
            "  Building wheel for face-recognition-models (setup.py) ... \u001b[?25l\u001b[?25hdone\n",
            "  Created wheel for face-recognition-models: filename=face_recognition_models-0.3.0-py2.py3-none-any.whl size=100566171 sha256=1e98debb23e9c1eb172d9e39cfcf0d3f5a9dd05549768abee9d5f6b929b78529\n",
            "  Stored in directory: /root/.cache/pip/wheels/7a/eb/cf/e9eced74122b679557f597bb7c8e4c739cfcac526db1fd523d\n",
            "Successfully built face-recognition-models\n",
            "Installing collected packages: face-recognition-models, face_recognition\n",
            "Successfully installed face-recognition-models-0.3.0 face_recognition-1.3.0\n"
          ]
        }
      ]
    },
    {
      "cell_type": "code",
      "source": [
        "# 必要なライブラリとモジュールをインポート\n",
        "import os\n",
        "import face_recognition\n",
        "import cv2\n",
        "import shutil\n",
        "\n",
        "# Senior_Projectディレクトリのパスを設定\n",
        "base_dir = '/content/drive/MyDrive/Horita_Semi/Senior_Project'\n",
        "# 新しい結果保存用のディレクトリをbase_dir内に作成\n",
        "new_folder = os.path.join(base_dir, 'FaceRecognitionResults')\n",
        "# 顔認識された画像を保存するディレクトリのパスを設定\n",
        "recognized_faces_dir = os.path.join(new_folder, 'RecognizedFaces')\n",
        "# 顔認識されなかった画像を保存するディレクトリのパスを設定\n",
        "unrecognized_faces_dir = os.path.join(new_folder, 'UnrecognizedFaces')\n",
        "\n",
        "# recognized_faces_dirとunrecognized_faces_dirディレクトリを作成、既に存在する場合はそのまま進行\n",
        "os.makedirs(recognized_faces_dir, exist_ok=True)\n",
        "os.makedirs(unrecognized_faces_dir, exist_ok=True)\n",
        "\n",
        "# 現在のディレクトリにある各ファイルに対して処理を行う\n",
        "for filename in os.listdir():\n",
        "    # ファイルがjpg画像である場合に処理を実行\n",
        "    if filename.endswith(\".jpg\"):\n",
        "        # face_recognitionを使ってjpg画像をロード\n",
        "        image = face_recognition.load_image_file(filename)\n",
        "        # 画像から顔の位置情報を取得\n",
        "        face_locations = face_recognition.face_locations(image)\n",
        "\n",
        "        # 顔が認識された場合の処理\n",
        "        if face_locations:\n",
        "            # 取得した顔の位置情報を元に、画像に矩形を描画\n",
        "            for (top, right, bottom, left) in face_locations:\n",
        "                cv2.rectangle(image, (left, top), (right, bottom), (0, 0, 255), 2)\n",
        "\n",
        "            # OpenCVはBGR形式で画像を扱うため、RGB形式に変換\n",
        "            image = cv2.cvtColor(image, cv2.COLOR_BGR2RGB)\n",
        "            # 顔が認識された画像を指定したディレクトリに保存\n",
        "            save_path = os.path.join(recognized_faces_dir, filename)\n",
        "            cv2.imwrite(save_path, image)\n",
        "        else:  # 顔が認識されなかった場合の処理\n",
        "            # 顔が認識されなかった画像を別のディレクトリに保存\n",
        "            save_path = os.path.join(unrecognized_faces_dir, filename)\n",
        "            shutil.copy(filename, save_path)\n"
      ],
      "metadata": {
        "id": "lNvLIR5_ESrO"
      },
      "execution_count": null,
      "outputs": []
    },
    {
      "cell_type": "code",
      "source": [],
      "metadata": {
        "id": "OKISelg8SZE-"
      },
      "execution_count": null,
      "outputs": []
    }
  ]
}